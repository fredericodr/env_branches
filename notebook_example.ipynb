{
 "cells": [
  {
   "cell_type": "code",
   "execution_count": null,
   "id": "4598acda",
   "metadata": {},
   "outputs": [],
   "source": [
    "import pandas as pd\n",
    "import numpy as np"
   ]
  },
  {
   "cell_type": "code",
   "execution_count": null,
   "id": "4bb3b88a",
   "metadata": {},
   "outputs": [],
   "source": [
    "print(\"this is some code. this is a message from branch\")"
   ]
  }
 ],
 "metadata": {
  "language_info": {
   "name": "python"
  }
 },
 "nbformat": 4,
 "nbformat_minor": 5
}
